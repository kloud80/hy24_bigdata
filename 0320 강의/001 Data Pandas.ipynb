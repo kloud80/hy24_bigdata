{
 "cells": [
  {
   "cell_type": "code",
   "execution_count": null,
   "metadata": {
    "collapsed": true,
    "id": "MVv7dLcZNRUD",
    "pycharm": {
     "is_executing": true
    }
   },
   "outputs": [],
   "source": [
    "import os\n",
    "from google.colab import drive\n",
    "drive.mount('/content/gdrive/')"
   ]
  },
  {
   "cell_type": "code",
   "source": [
    "cd /content/gdrive/MyDrive/Colab Notebooks/hy24_bigdata/0320 강의/"
   ],
   "metadata": {
    "id": "BvjugXejNTrL",
    "pycharm": {
     "is_executing": true
    }
   },
   "execution_count": null,
   "outputs": []
  },
  {
   "cell_type": "code",
   "source": [
    "import pandas as pd\n",
    "from glob import glob"
   ],
   "metadata": {
    "id": "yUMQnJJ3NgG6"
   },
   "execution_count": 3,
   "outputs": []
  },
  {
   "cell_type": "code",
   "source": [
    "flist = glob('data/*.csv')\n",
    "print (flist)"
   ],
   "metadata": {
    "id": "jkDd9HzZNjYj",
    "pycharm": {
     "is_executing": true
    }
   },
   "execution_count": null,
   "outputs": []
  },
  {
   "cell_type": "code",
   "source": [
    "data = pd.read_csv(flist[0], sep=\",\", encoding=\"cp949\", skiprows=15, dtype=\"str\")"
   ],
   "metadata": {
    "id": "aUKjt-lCNyoY"
   },
   "execution_count": 5,
   "outputs": []
  },
  {
   "cell_type": "code",
   "source": [
    "data"
   ],
   "metadata": {
    "id": "vsFb7smxOGW6",
    "pycharm": {
     "is_executing": true
    }
   },
   "execution_count": null,
   "outputs": []
  },
  {
   "cell_type": "code",
   "source": [
    "for file in flist[1:]:\n",
    "  data = pd.concat([data, pd.read_csv(file, sep=\",\", encoding=\"cp949\", skiprows=15, dtype=\"str\")], axis=0)"
   ],
   "metadata": {
    "id": "Xu4fpJybOZpy"
   },
   "execution_count": 7,
   "outputs": []
  },
  {
   "cell_type": "code",
   "source": [
    "data"
   ],
   "metadata": {
    "id": "5nX-q6V3iuOR"
   },
   "execution_count": null,
   "outputs": []
  },
  {
   "cell_type": "code",
   "source": [
    "data.shape"
   ],
   "metadata": {
    "id": "lRUJYvpoOlxH",
    "pycharm": {
     "is_executing": true
    }
   },
   "execution_count": null,
   "outputs": []
  },
  {
   "cell_type": "code",
   "source": [
    "data.columns"
   ],
   "metadata": {
    "id": "-WPCmy3NO54g",
    "pycharm": {
     "is_executing": true
    }
   },
   "execution_count": null,
   "outputs": []
  },
  {
   "cell_type": "code",
   "source": [
    "data.dtypes"
   ],
   "metadata": {
    "id": "UFuJKH-xPG-m",
    "pycharm": {
     "is_executing": true
    }
   },
   "execution_count": null,
   "outputs": []
  },
  {
   "cell_type": "code",
   "source": [
    "data[\"거래금액(만원)\"] = data[\"거래금액(만원)\"].str.replace(\",\", \"\")"
   ],
   "metadata": {
    "id": "pa78u7G1PQkM"
   },
   "execution_count": 11,
   "outputs": []
  },
  {
   "cell_type": "code",
   "source": [
    "data[\"거래금액(만원)\"] = data[\"거래금액(만원)\"].astype(\"int\")"
   ],
   "metadata": {
    "id": "Qnq9_IsGPUT_"
   },
   "execution_count": 12,
   "outputs": []
  },
  {
   "cell_type": "code",
   "source": [
    "data[\"거래금액(만원)\"].describe()"
   ],
   "metadata": {
    "id": "jXnrSN7fPpnS",
    "pycharm": {
     "is_executing": true
    }
   },
   "execution_count": null,
   "outputs": []
  },
  {
   "cell_type": "code",
   "source": [
    "data[\"거래금액(만원)\"].hist(bins=100)"
   ],
   "metadata": {
    "id": "iyjLlpilPiMF",
    "pycharm": {
     "is_executing": true
    }
   },
   "execution_count": null,
   "outputs": []
  },
  {
   "cell_type": "code",
   "source": [
    "data['전용면적(㎡)'] = data['전용면적(㎡)'].astype('float')"
   ],
   "metadata": {
    "id": "bt7S5pHjBV_k"
   },
   "execution_count": 15,
   "outputs": []
  },
  {
   "cell_type": "code",
   "source": [
    "data['전용면적(㎡)'].describe()"
   ],
   "metadata": {
    "id": "WwSnalCOBb3I"
   },
   "execution_count": null,
   "outputs": []
  },
  {
   "cell_type": "code",
   "source": [
    "data['전용면적(㎡)'].hist(bins=100)"
   ],
   "metadata": {
    "id": "VxERMthbBeNI"
   },
   "execution_count": null,
   "outputs": []
  },
  {
   "cell_type": "code",
   "source": [
    "data['건축년도'] = data['건축년도'].astype('int')"
   ],
   "metadata": {
    "id": "UbHvogGbEFQx"
   },
   "execution_count": 59,
   "outputs": []
  },
  {
   "cell_type": "code",
   "source": [
    "data['건축년도'].describe()"
   ],
   "metadata": {
    "id": "xCF9XeMMELiA"
   },
   "execution_count": null,
   "outputs": []
  },
  {
   "cell_type": "code",
   "source": [
    "data['계약년월'] = data['계약년월'].astype('int')"
   ],
   "metadata": {
    "id": "cv32o-B0BijV"
   },
   "execution_count": 18,
   "outputs": []
  },
  {
   "cell_type": "code",
   "source": [
    "data['계약년월'].describe()"
   ],
   "metadata": {
    "id": "twU6YEnLBvP7"
   },
   "execution_count": null,
   "outputs": []
  },
  {
   "cell_type": "code",
   "source": [
    "data['계약년'] = data['계약년월'] / 100\n",
    "data['계약년'] = data['계약년'].astype('int')"
   ],
   "metadata": {
    "id": "zrFXgLyLBzcq"
   },
   "execution_count": 21,
   "outputs": []
  },
  {
   "cell_type": "code",
   "source": [
    "data['계약년'].describe()"
   ],
   "metadata": {
    "id": "6l-VwDlaB_81"
   },
   "execution_count": null,
   "outputs": []
  },
  {
   "cell_type": "code",
   "source": [
    "data['계약년'].value_counts()"
   ],
   "metadata": {
    "id": "vP2WQf65CCz4"
   },
   "execution_count": null,
   "outputs": []
  },
  {
   "cell_type": "code",
   "source": [
    "data['단가'] = data['거래금액(만원)'] / data['전용면적(㎡)']"
   ],
   "metadata": {
    "id": "StC8W9JMCpaa"
   },
   "execution_count": 27,
   "outputs": []
  },
  {
   "cell_type": "code",
   "source": [
    "data['시군구'].value_counts()"
   ],
   "metadata": {
    "id": "ms0FVX0bDVY4"
   },
   "execution_count": null,
   "outputs": []
  },
  {
   "cell_type": "code",
   "source": [
    "data['시도명'] = data['시군구'].apply(lambda x : x.split(' ')[0])"
   ],
   "metadata": {
    "id": "dukofmKQDWP1"
   },
   "execution_count": 44,
   "outputs": []
  },
  {
   "cell_type": "code",
   "source": [
    "data['시군구명'] = data['시군구'].apply(lambda x : x.split(' ')[1])"
   ],
   "metadata": {
    "id": "Htjx582hDc1C"
   },
   "execution_count": 45,
   "outputs": []
  },
  {
   "cell_type": "code",
   "source": [
    "data['읍면동명'] = data['시군구'].apply(lambda x : x.split(' ')[2])"
   ],
   "metadata": {
    "id": "SVq7CpB1DhjS"
   },
   "execution_count": 46,
   "outputs": []
  },
  {
   "cell_type": "code",
   "source": [
    "import matplotlib.pyplot as plt"
   ],
   "metadata": {
    "id": "CwnZadvYCINu"
   },
   "execution_count": 47,
   "outputs": []
  },
  {
   "cell_type": "code",
   "source": [
    "data_select = data[(data['계약년']==2023) & (data['전용면적(㎡)'] > 80) & (data['전용면적(㎡)'] < 85)& (data['시군구명'] == '강남구') & (data['건축년도']>2000)]"
   ],
   "metadata": {
    "id": "z9IaIRGkCMrb"
   },
   "execution_count": 61,
   "outputs": []
  },
  {
   "cell_type": "code",
   "source": [
    "plt.scatter(data_select['계약년월'], data_select['거래금액(만원)'])\n",
    "plt.show()"
   ],
   "metadata": {
    "id": "U0o_9SghCfzJ"
   },
   "execution_count": null,
   "outputs": []
  },
  {
   "cell_type": "code",
   "source": [],
   "metadata": {
    "id": "quFOsWSEC16z"
   },
   "execution_count": null,
   "outputs": []
  }
 ],
 "metadata": {
  "kernelspec": {
   "display_name": "Python 3",
   "language": "python",
   "name": "python3"
  },
  "language_info": {
   "codemirror_mode": {
    "name": "ipython",
    "version": 2
   },
   "file_extension": ".py",
   "mimetype": "text/x-python",
   "name": "python",
   "nbconvert_exporter": "python",
   "pygments_lexer": "ipython2",
   "version": "2.7.6"
  },
  "colab": {
   "provenance": []
  }
 },
 "nbformat": 4,
 "nbformat_minor": 0
}