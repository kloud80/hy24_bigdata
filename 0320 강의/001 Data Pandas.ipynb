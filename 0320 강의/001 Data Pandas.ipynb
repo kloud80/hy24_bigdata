{
 "cells": [
  {
   "cell_type": "code",
   "execution_count": null,
   "metadata": {
    "collapsed": true,
    "colab": {
     "base_uri": "https://localhost:8080/"
    },
    "id": "MVv7dLcZNRUD",
    "executionInfo": {
     "status": "ok",
     "timestamp": 1710826575860,
     "user_tz": -540,
     "elapsed": 17166,
     "user": {
      "displayName": "­구름 | 공과대학 도시공학과 | 겸임교수 | 한양대(서울)",
      "userId": "01437336538035275262"
     }
    },
    "outputId": "917bd55c-23e1-4fdc-9d10-1aaf78dcc3b9",
    "pycharm": {
     "is_executing": true
    }
   },
   "outputs": [],
   "source": [
    "import os\n",
    "from google.colab import drive\n",
    "drive.mount('/content/gdrive/')"
   ]
  },
  {
   "cell_type": "code",
   "source": [
    "cd /content/gdrive/MyDrive/Colab Notebooks/hy24_bigdata/0320 강의/"
   ],
   "metadata": {
    "colab": {
     "base_uri": "https://localhost:8080/"
    },
    "id": "BvjugXejNTrL",
    "executionInfo": {
     "status": "ok",
     "timestamp": 1710826585485,
     "user_tz": -540,
     "elapsed": 299,
     "user": {
      "displayName": "­구름 | 공과대학 도시공학과 | 겸임교수 | 한양대(서울)",
      "userId": "01437336538035275262"
     }
    },
    "outputId": "60a0d3b0-b4d2-41f5-a315-e702d0b5d9e4",
    "pycharm": {
     "is_executing": true
    }
   },
   "execution_count": null,
   "outputs": []
  },
  {
   "cell_type": "code",
   "source": [
    "import pandas as pd\n",
    "from glob import glob"
   ],
   "metadata": {
    "id": "yUMQnJJ3NgG6",
    "executionInfo": {
     "status": "ok",
     "timestamp": 1710826637235,
     "user_tz": -540,
     "elapsed": 1,
     "user": {
      "displayName": "­구름 | 공과대학 도시공학과 | 겸임교수 | 한양대(서울)",
      "userId": "01437336538035275262"
     }
    }
   },
   "execution_count": 4,
   "outputs": []
  },
  {
   "cell_type": "code",
   "source": [
    "flist = glob('data/*.csv')\n",
    "print (flist)"
   ],
   "metadata": {
    "colab": {
     "base_uri": "https://localhost:8080/"
    },
    "id": "jkDd9HzZNjYj",
    "executionInfo": {
     "status": "ok",
     "timestamp": 1710826658184,
     "user_tz": -540,
     "elapsed": 2,
     "user": {
      "displayName": "­구름 | 공과대학 도시공학과 | 겸임교수 | 한양대(서울)",
      "userId": "01437336538035275262"
     }
    },
    "outputId": "2dca0cc7-5fb5-43b6-aa05-d08c9f2766f0",
    "pycharm": {
     "is_executing": true
    }
   },
   "execution_count": null,
   "outputs": []
  },
  {
   "cell_type": "code",
   "source": [
    "data = pd.read_csv(flist[0], sep=\",\", encoding=\"cp949\", skiprows=15, dtype=\"str\")"
   ],
   "metadata": {
    "id": "aUKjt-lCNyoY",
    "executionInfo": {
     "status": "ok",
     "timestamp": 1710826954210,
     "user_tz": -540,
     "elapsed": 2,
     "user": {
      "displayName": "­구름 | 공과대학 도시공학과 | 겸임교수 | 한양대(서울)",
      "userId": "01437336538035275262"
     }
    }
   },
   "execution_count": 14,
   "outputs": []
  },
  {
   "cell_type": "code",
   "source": [
    "data"
   ],
   "metadata": {
    "colab": {
     "base_uri": "https://localhost:8080/",
     "height": 753
    },
    "id": "vsFb7smxOGW6",
    "executionInfo": {
     "status": "ok",
     "timestamp": 1710827110231,
     "user_tz": -540,
     "elapsed": 3,
     "user": {
      "displayName": "­구름 | 공과대학 도시공학과 | 겸임교수 | 한양대(서울)",
      "userId": "01437336538035275262"
     }
    },
    "outputId": "85f827b9-13f4-4d60-b5b0-1ef8daadaa03",
    "pycharm": {
     "is_executing": true
    }
   },
   "execution_count": null,
   "outputs": []
  },
  {
   "cell_type": "code",
   "source": [
    "for file in flist[1:]:\n",
    "  data = pd.concat([data, pd.read_csv(file, sep=\",\", encoding=\"cp949\", skiprows=15, dtype=\"str\")], axis=0)"
   ],
   "metadata": {
    "id": "Xu4fpJybOZpy",
    "executionInfo": {
     "status": "ok",
     "timestamp": 1710826960374,
     "user_tz": -540,
     "elapsed": 5889,
     "user": {
      "displayName": "­구름 | 공과대학 도시공학과 | 겸임교수 | 한양대(서울)",
      "userId": "01437336538035275262"
     }
    }
   },
   "execution_count": 16,
   "outputs": []
  },
  {
   "cell_type": "code",
   "source": [
    "data.shape"
   ],
   "metadata": {
    "colab": {
     "base_uri": "https://localhost:8080/"
    },
    "id": "lRUJYvpoOlxH",
    "executionInfo": {
     "status": "ok",
     "timestamp": 1710826962174,
     "user_tz": -540,
     "elapsed": 1809,
     "user": {
      "displayName": "­구름 | 공과대학 도시공학과 | 겸임교수 | 한양대(서울)",
      "userId": "01437336538035275262"
     }
    },
    "outputId": "2f076c3b-2b0c-4545-eaa0-afe53bc5f36b",
    "pycharm": {
     "is_executing": true
    }
   },
   "execution_count": null,
   "outputs": []
  },
  {
   "cell_type": "code",
   "source": [
    "data.columns"
   ],
   "metadata": {
    "colab": {
     "base_uri": "https://localhost:8080/"
    },
    "id": "-WPCmy3NO54g",
    "executionInfo": {
     "status": "ok",
     "timestamp": 1710827001618,
     "user_tz": -540,
     "elapsed": 266,
     "user": {
      "displayName": "­구름 | 공과대학 도시공학과 | 겸임교수 | 한양대(서울)",
      "userId": "01437336538035275262"
     }
    },
    "outputId": "e910bad1-7796-4d13-d09b-ae15156dad7b",
    "pycharm": {
     "is_executing": true
    }
   },
   "execution_count": null,
   "outputs": []
  },
  {
   "cell_type": "code",
   "source": [
    "data.dtypes"
   ],
   "metadata": {
    "colab": {
     "base_uri": "https://localhost:8080/"
    },
    "id": "UFuJKH-xPG-m",
    "executionInfo": {
     "status": "ok",
     "timestamp": 1710827113979,
     "user_tz": -540,
     "elapsed": 1,
     "user": {
      "displayName": "­구름 | 공과대학 도시공학과 | 겸임교수 | 한양대(서울)",
      "userId": "01437336538035275262"
     }
    },
    "outputId": "f4fb9341-07c6-44b8-9a76-b965bdc1fdd0",
    "pycharm": {
     "is_executing": true
    }
   },
   "execution_count": null,
   "outputs": []
  },
  {
   "cell_type": "code",
   "source": [
    "data[\"거래금액(만원)\"] = data[\"거래금액(만원)\"].str.replace(\",\", \"\")"
   ],
   "metadata": {
    "id": "pa78u7G1PQkM",
    "executionInfo": {
     "status": "ok",
     "timestamp": 1710827066469,
     "user_tz": -540,
     "elapsed": 3355,
     "user": {
      "displayName": "­구름 | 공과대학 도시공학과 | 겸임교수 | 한양대(서울)",
      "userId": "01437336538035275262"
     }
    }
   },
   "execution_count": 22,
   "outputs": []
  },
  {
   "cell_type": "code",
   "source": [
    "data[\"거래금액(만원)\"] = data[\"거래금액(만원)\"].astype(\"int\")"
   ],
   "metadata": {
    "id": "Qnq9_IsGPUT_",
    "executionInfo": {
     "status": "ok",
     "timestamp": 1710827103617,
     "user_tz": -540,
     "elapsed": 1,
     "user": {
      "displayName": "­구름 | 공과대학 도시공학과 | 겸임교수 | 한양대(서울)",
      "userId": "01437336538035275262"
     }
    }
   },
   "execution_count": 24,
   "outputs": []
  },
  {
   "cell_type": "code",
   "source": [
    "data[\"거래금액(만원)\"].describe()"
   ],
   "metadata": {
    "colab": {
     "base_uri": "https://localhost:8080/"
    },
    "id": "jXnrSN7fPpnS",
    "executionInfo": {
     "status": "ok",
     "timestamp": 1710827201372,
     "user_tz": -540,
     "elapsed": 2,
     "user": {
      "displayName": "­구름 | 공과대학 도시공학과 | 겸임교수 | 한양대(서울)",
      "userId": "01437336538035275262"
     }
    },
    "outputId": "1d0ed620-7b02-4af0-a19d-b0e5e2ebbec5",
    "pycharm": {
     "is_executing": true
    }
   },
   "execution_count": null,
   "outputs": []
  },
  {
   "cell_type": "code",
   "source": [
    "data[\"거래금액(만원)\"].hist(bins=100)"
   ],
   "metadata": {
    "colab": {
     "base_uri": "https://localhost:8080/",
     "height": 466
    },
    "id": "iyjLlpilPiMF",
    "executionInfo": {
     "status": "ok",
     "timestamp": 1710827144536,
     "user_tz": -540,
     "elapsed": 2508,
     "user": {
      "displayName": "­구름 | 공과대학 도시공학과 | 겸임교수 | 한양대(서울)",
      "userId": "01437336538035275262"
     }
    },
    "outputId": "20bb2473-1a81-4222-bee5-a307faee4042",
    "pycharm": {
     "is_executing": true
    }
   },
   "execution_count": null,
   "outputs": []
  }
 ],
 "metadata": {
  "kernelspec": {
   "display_name": "Python 3",
   "language": "python",
   "name": "python3"
  },
  "language_info": {
   "codemirror_mode": {
    "name": "ipython",
    "version": 2
   },
   "file_extension": ".py",
   "mimetype": "text/x-python",
   "name": "python",
   "nbconvert_exporter": "python",
   "pygments_lexer": "ipython2",
   "version": "2.7.6"
  },
  "colab": {
   "provenance": []
  }
 },
 "nbformat": 4,
 "nbformat_minor": 0
}